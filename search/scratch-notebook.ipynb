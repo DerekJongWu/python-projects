{
 "cells": [
  {
   "cell_type": "code",
   "execution_count": 1,
   "id": "a04b7651-7105-409f-b7b8-ee1f50903679",
   "metadata": {},
   "outputs": [],
   "source": [
    "from selenium import webdriver\n",
    "from selenium.webdriver.common.by import By\n",
    "import time\n",
    "\n",
    "driver = webdriver.Chrome()\n",
    " \n",
    "# Logging into LinkedIn\n",
    "driver.get(\"https://linkedin.com/uas/login\")\n",
    "time.sleep(5)\n",
    " \n",
    "username = driver.find_element(By.ID, \"username\")\n",
    "username.send_keys(\"derek.wu@stern.nyu.edu\")  # Enter Your Email Address\n",
    " \n",
    "pword = driver.find_element(By.ID, \"password\")\n",
    "pword.send_keys(\"dere1216\")        # Enter Your Password\n",
    " \n",
    "driver.find_element(By.XPATH, \"//button[@type='submit']\").click()\n",
    " \n",
    "# Opening Kunal's Profile\n",
    "# paste the URL of Kunal's profile here\n",
    "profile_url = \"https://www.linkedin.com/company/phycon-inc/about/\"\n",
    " \n",
    "driver.get(profile_url) # this will open the link"
   ]
  },
  {
   "cell_type": "code",
   "execution_count": null,
   "id": "458fee27-8f29-4fa3-8474-218632c19e3a",
   "metadata": {},
   "outputs": [],
   "source": [
    "from bs4 import BeautifulSoup\n",
    "\n",
    "src = driver.page_source\n",
    " \n",
    "# Now using beautiful soup\n",
    "soup = BeautifulSoup(src, 'lxml')"
   ]
  },
  {
   "cell_type": "code",
   "execution_count": null,
   "id": "ec71676e-4d4e-4030-b0a3-efc7bff999c8",
   "metadata": {},
   "outputs": [],
   "source": [
    "overview = soup.find('p', {'class': 'break-words white-space-pre-wrap t-black--light text-body-medium'})"
   ]
  },
  {
   "cell_type": "code",
   "execution_count": null,
   "id": "ad957632-e02f-4851-bcd3-2512923fb0d9",
   "metadata": {},
   "outputs": [],
   "source": [
    "print(overview) "
   ]
  },
  {
   "cell_type": "code",
   "execution_count": null,
   "id": "e89d2974-230d-4d8c-b36b-f40550488a48",
   "metadata": {},
   "outputs": [],
   "source": [
    "text = overview.get_text()"
   ]
  },
  {
   "cell_type": "code",
   "execution_count": null,
   "id": "0f19594f-ab9b-4f33-b5b3-8a117d32d152",
   "metadata": {},
   "outputs": [],
   "source": [
    "test = text.strip()"
   ]
  },
  {
   "cell_type": "code",
   "execution_count": null,
   "id": "7e5af333-6c17-4549-8e3b-dc50636185cc",
   "metadata": {},
   "outputs": [],
   "source": [
    "print(test)"
   ]
  },
  {
   "cell_type": "code",
   "execution_count": 2,
   "id": "0a556acc-6843-4dd9-b1df-afa44f805a9d",
   "metadata": {},
   "outputs": [],
   "source": [
    "from bs4 import BeautifulSoup\n",
    "\n",
    "profiles = ['https://www.linkedin.com/company/prints-of-love/about/', 'https://www.linkedin.com/company/phycon-inc/about/']\n",
    "descriptions = []\n",
    "for item in profiles: \n",
    "    driver.get(item)\n",
    "    src = driver.page_source\n",
    "    # Now using beautiful soup\n",
    "    soup = BeautifulSoup(src, 'lxml')\n",
    "    overview = soup.find('p', {'class': 'break-words white-space-pre-wrap t-black--light text-body-medium'})\n",
    "    text = overview.get_text()\n",
    "    company_description = text.strip()\n",
    "    descriptions.append(company_description)\n",
    "    time.sleep(10)"
   ]
  },
  {
   "cell_type": "code",
   "execution_count": 3,
   "id": "52d1f4bc-d237-4a0d-a8ac-483de9640154",
   "metadata": {},
   "outputs": [
    {
     "data": {
      "text/plain": [
       "['Simple by Design\\nWe print what matters most: wedding related designs, pregnancy/birth announcements, and holiday cards. Via our ridiculously easy to use upload and print site, we provide professionally printed products delivered quickly, on budget, and without hassle.  By collaborating directly with independent graphic designers, we have created a more friendly and efficient printing marketplace.\\n\\nDoing What’s Right\\nPrints of Love is committed to operating sustainably and responsibly. We are accountable for the impact we have on this planet and the people that live in it.  As a certified Reforestation Partner of One Tree Planted, a tree is planted for every print order.  Also, recycled paper and vegetable-based inks are quickly being phased into our printing practices.',\n",
       " 'PhyCon Inc is a Medical billing company specializing in Emergency Department and Urgent Care billing.\\r\\n\\r\\nEstablished in 1986, PhyCon is built on proprietary billing software backed by an outstanding knowledge base of attending and resident coding as well as strict adherence to documentation guidelines.\\r\\n\\r\\nWe offer comprehensive practice management services that enable you to concentrate on patient care. Our combined knowledge and experience in all areas of the health care industry and billing industry bring exceptional results.\\r\\n\\r\\nWe constantly develop new and innovative methods to ensure our clients are collecting maximum revenue, allowing you to do your job of providing high quality medical care.\\r\\n\\r\\nPhyCon provides billing, coding, consulting, and practice management services to a national base of clients in emergency medicine and urgent care facilities.']"
      ]
     },
     "execution_count": 3,
     "metadata": {},
     "output_type": "execute_result"
    }
   ],
   "source": [
    "descriptions"
   ]
  },
  {
   "cell_type": "code",
   "execution_count": 14,
   "id": "60e68338-cc13-40f7-bb32-0a4408186a98",
   "metadata": {},
   "outputs": [],
   "source": [
    "results = {\"POL\": {\"company_overview\": descriptions[0], \"email_template\": \"hello\"}}"
   ]
  },
  {
   "cell_type": "code",
   "execution_count": 15,
   "id": "2be13d38-d8c8-41c0-acb4-8894a447aa66",
   "metadata": {},
   "outputs": [],
   "source": [
    "import pandas as pd"
   ]
  },
  {
   "cell_type": "code",
   "execution_count": 16,
   "id": "dc7afe2d-f86b-44e0-8657-42417c82447a",
   "metadata": {},
   "outputs": [],
   "source": [
    "df = pd.DataFrame.from_dict(results)"
   ]
  },
  {
   "cell_type": "code",
   "execution_count": 18,
   "id": "f3d74d2d-5608-416f-b0a4-6446662e119e",
   "metadata": {},
   "outputs": [
    {
     "data": {
      "text/html": [
       "<div>\n",
       "<style scoped>\n",
       "    .dataframe tbody tr th:only-of-type {\n",
       "        vertical-align: middle;\n",
       "    }\n",
       "\n",
       "    .dataframe tbody tr th {\n",
       "        vertical-align: top;\n",
       "    }\n",
       "\n",
       "    .dataframe thead th {\n",
       "        text-align: right;\n",
       "    }\n",
       "</style>\n",
       "<table border=\"1\" class=\"dataframe\">\n",
       "  <thead>\n",
       "    <tr style=\"text-align: right;\">\n",
       "      <th></th>\n",
       "      <th>company_overview</th>\n",
       "      <th>email_template</th>\n",
       "    </tr>\n",
       "  </thead>\n",
       "  <tbody>\n",
       "    <tr>\n",
       "      <th>POL</th>\n",
       "      <td>Simple by Design\\nWe print what matters most: ...</td>\n",
       "      <td>hello</td>\n",
       "    </tr>\n",
       "  </tbody>\n",
       "</table>\n",
       "</div>"
      ],
      "text/plain": [
       "                                      company_overview email_template\n",
       "POL  Simple by Design\\nWe print what matters most: ...          hello"
      ]
     },
     "execution_count": 18,
     "metadata": {},
     "output_type": "execute_result"
    }
   ],
   "source": [
    "df.T"
   ]
  },
  {
   "cell_type": "code",
   "execution_count": 32,
   "id": "a2eef472-b691-495f-9389-3489f2af7745",
   "metadata": {},
   "outputs": [],
   "source": [
    "test_df = pd.read_csv('test.csv')"
   ]
  },
  {
   "cell_type": "code",
   "execution_count": 33,
   "id": "f596cf82-45a1-4291-9d6b-c99da12b81ea",
   "metadata": {},
   "outputs": [
    {
     "data": {
      "text/html": [
       "<div>\n",
       "<style scoped>\n",
       "    .dataframe tbody tr th:only-of-type {\n",
       "        vertical-align: middle;\n",
       "    }\n",
       "\n",
       "    .dataframe tbody tr th {\n",
       "        vertical-align: top;\n",
       "    }\n",
       "\n",
       "    .dataframe thead th {\n",
       "        text-align: right;\n",
       "    }\n",
       "</style>\n",
       "<table border=\"1\" class=\"dataframe\">\n",
       "  <thead>\n",
       "    <tr style=\"text-align: right;\">\n",
       "      <th></th>\n",
       "      <th>LinkedIn</th>\n",
       "      <th>Company Name</th>\n",
       "    </tr>\n",
       "  </thead>\n",
       "  <tbody>\n",
       "    <tr>\n",
       "      <th>0</th>\n",
       "      <td>https://www.linkedin.com/company/prints-of-lov...</td>\n",
       "      <td>Prints of Love</td>\n",
       "    </tr>\n",
       "    <tr>\n",
       "      <th>1</th>\n",
       "      <td>https://www.linkedin.com/company/phycon-inc/ab...</td>\n",
       "      <td>Phycon Inc</td>\n",
       "    </tr>\n",
       "  </tbody>\n",
       "</table>\n",
       "</div>"
      ],
      "text/plain": [
       "                                            LinkedIn    Company Name\n",
       "0  https://www.linkedin.com/company/prints-of-lov...  Prints of Love\n",
       "1  https://www.linkedin.com/company/phycon-inc/ab...      Phycon Inc"
      ]
     },
     "execution_count": 33,
     "metadata": {},
     "output_type": "execute_result"
    }
   ],
   "source": [
    "test_df"
   ]
  },
  {
   "cell_type": "code",
   "execution_count": 34,
   "id": "b07242ed-5084-4c0c-8b3c-8dad3151992d",
   "metadata": {},
   "outputs": [],
   "source": [
    "profiles = test_df[\"LinkedIn\"].tolist()"
   ]
  },
  {
   "cell_type": "code",
   "execution_count": 35,
   "id": "c9268bf6-4c3b-44af-9779-d27acce2b494",
   "metadata": {},
   "outputs": [
    {
     "data": {
      "text/plain": [
       "['https://www.linkedin.com/company/prints-of-love/about/',\n",
       " 'https://www.linkedin.com/company/phycon-inc/about/']"
      ]
     },
     "execution_count": 35,
     "metadata": {},
     "output_type": "execute_result"
    }
   ],
   "source": [
    "profiles"
   ]
  },
  {
   "cell_type": "code",
   "execution_count": 36,
   "id": "b6daf799-44bc-4918-bd39-50b0ea9cb544",
   "metadata": {},
   "outputs": [],
   "source": [
    "company_names = test_df[\"Company Name\"].tolist()"
   ]
  },
  {
   "cell_type": "code",
   "execution_count": 37,
   "id": "8da5cdbb-52d1-46fd-9461-f1dbc7746169",
   "metadata": {},
   "outputs": [
    {
     "data": {
      "text/plain": [
       "['Prints of Love', 'Phycon Inc']"
      ]
     },
     "execution_count": 37,
     "metadata": {},
     "output_type": "execute_result"
    }
   ],
   "source": [
    "company_names"
   ]
  },
  {
   "cell_type": "code",
   "execution_count": null,
   "id": "b96d7621-3c6d-4bab-85a9-b466f9cad774",
   "metadata": {},
   "outputs": [],
   "source": []
  }
 ],
 "metadata": {
  "kernelspec": {
   "display_name": "Python 3 (ipykernel)",
   "language": "python",
   "name": "python3"
  },
  "language_info": {
   "codemirror_mode": {
    "name": "ipython",
    "version": 3
   },
   "file_extension": ".py",
   "mimetype": "text/x-python",
   "name": "python",
   "nbconvert_exporter": "python",
   "pygments_lexer": "ipython3",
   "version": "3.10.1"
  }
 },
 "nbformat": 4,
 "nbformat_minor": 5
}
