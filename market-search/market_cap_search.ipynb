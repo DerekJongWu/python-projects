{
 "cells": [
  {
   "cell_type": "code",
   "execution_count": 1,
   "id": "e6a72add-0b59-4da3-ac27-46265e435151",
   "metadata": {},
   "outputs": [],
   "source": [
    "from pandas_datareader import data\n",
    "from yahoo_fin import stock_info as si\n",
    "import pandas as pd\n",
    "from tqdm import tqdm "
   ]
  },
  {
   "cell_type": "code",
   "execution_count": 2,
   "id": "0c3a5c6e-05bd-4cb5-8ade-c21a37c021b5",
   "metadata": {},
   "outputs": [],
   "source": [
    "df1 = pd.DataFrame(si.tickers_sp500())\n",
    "df2 = pd.DataFrame(si.tickers_nasdaq())\n",
    "df3 = pd.DataFrame(si.tickers_dow())\n",
    "df4 = pd.DataFrame(si.tickers_other())"
   ]
  },
  {
   "cell_type": "code",
   "execution_count": 3,
   "id": "81b3bce2-b336-4aaf-841c-4581ec501696",
   "metadata": {},
   "outputs": [],
   "source": [
    "sym1 = set(symbol for symbol in df1[0].values.tolist())\n",
    "sym2 = set(symbol for symbol in df2[0].values.tolist())\n",
    "sym3 = set(symbol for symbol in df3[0].values.tolist())\n",
    "sym4 = set(symbol for symbol in df4[0].values.tolist())"
   ]
  },
  {
   "cell_type": "code",
   "execution_count": 4,
   "id": "41c572a9-6943-4043-9c9c-612d2f629b2a",
   "metadata": {},
   "outputs": [
    {
     "name": "stdout",
     "output_type": "stream",
     "text": [
      "Removed 1692 unqualified stock symbols...\n",
      "There are 9635 qualified stock symbols...\n"
     ]
    }
   ],
   "source": [
    "# join the 4 sets into one. Because it's a set, there will be no duplicate symbols\n",
    "symbols = set.union(sym1, sym2, sym3, sym4)\n",
    "\n",
    "# Some stocks are 5 characters. Those stocks with the suffixes listed below are not of interest.\n",
    "my_list = ['M', 'W', 'R', 'P', 'Q', 'U', 'B', 'D', 'L','I']\n",
    "del_set = set()\n",
    "sav_set = set()\n",
    "\n",
    "for symbol in symbols:\n",
    "    if len(symbol) >= 5:\n",
    "        del_set.add(symbol)\n",
    "    else:\n",
    "        sav_set.add(symbol)\n",
    "\n",
    "print(f'Removed {len( del_set )} unqualified stock symbols...' )\n",
    "print(f'There are {len( sav_set )} qualified stock symbols...' )"
   ]
  },
  {
   "cell_type": "code",
   "execution_count": 6,
   "id": "3309ceab-1d43-415c-a544-f4cd10fbd89b",
   "metadata": {},
   "outputs": [
    {
     "name": "stderr",
     "output_type": "stream",
     "text": [
      "100%|██████████████████████████████████████████████████████████████████████████████████████████████████████████████████████████████████████████████████████████████████████████████████████████████████████████████████████| 9634/9634 [20:41<00:00,  7.76it/s]\n"
     ]
    }
   ],
   "source": [
    "import yahooquery as yq\n",
    "\n",
    "results = {} \n",
    "\n",
    "errors = []\n",
    "for ticker in tqdm(list(sav_set)[1:]): \n",
    "    if \"$\" in ticker or \"-\" in ticker or \".\" in ticker: \n",
    "        continue\n",
    "    yq_ticker = yq.Ticker(ticker)\n",
    "    mc = yq_ticker.price[ticker]['marketCap']\n",
    "    if mc == {}: \n",
    "        errors.append(ticker)\n",
    "        continue\n",
    "    if mc > 1000000000: \n",
    "        results[ticker] = {'Market Cap' : mc,\n",
    "                           'Name' : yq_ticker.price[ticker]['longName']}"
   ]
  },
  {
   "cell_type": "code",
   "execution_count": 11,
   "id": "821c3cb2-cd8b-42a0-ab4f-8d51f4242e9e",
   "metadata": {},
   "outputs": [],
   "source": [
    "df = pd.DataFrame.from_dict(results, orient = 'columns')"
   ]
  },
  {
   "cell_type": "code",
   "execution_count": 12,
   "id": "22709e80-78d8-4940-863e-495cdcad70b8",
   "metadata": {},
   "outputs": [],
   "source": [
    "df.to_csv('companies.csv') "
   ]
  },
  {
   "cell_type": "code",
   "execution_count": 15,
   "id": "b6db8877-2a42-46c8-bb31-c0c4ab2903e4",
   "metadata": {},
   "outputs": [],
   "source": [
    "df.T.to_csv('companies.csv')"
   ]
  },
  {
   "cell_type": "code",
   "execution_count": null,
   "id": "3e5ee03b-f640-4068-a068-baa232f93eb8",
   "metadata": {},
   "outputs": [],
   "source": []
  }
 ],
 "metadata": {
  "kernelspec": {
   "display_name": "Python 3 (ipykernel)",
   "language": "python",
   "name": "python3"
  },
  "language_info": {
   "codemirror_mode": {
    "name": "ipython",
    "version": 3
   },
   "file_extension": ".py",
   "mimetype": "text/x-python",
   "name": "python",
   "nbconvert_exporter": "python",
   "pygments_lexer": "ipython3",
   "version": "3.10.1"
  }
 },
 "nbformat": 4,
 "nbformat_minor": 5
}
